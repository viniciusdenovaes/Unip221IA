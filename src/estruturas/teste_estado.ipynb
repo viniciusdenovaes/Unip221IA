{
 "cells": [
  {
   "cell_type": "code",
   "execution_count": 1,
   "outputs": [],
   "source": [
    "from src.estruturas.grafo import Grafo\n",
    "from src.dao.read_grafo import read_grafo\n",
    "from pathlib import Path\n",
    "from src.estruturas.espaco_de_estados import Estado\n",
    "from typing import Dict, Set, List\n"
   ],
   "metadata": {
    "collapsed": false,
    "pycharm": {
     "name": "#%%\n"
    }
   }
  },
  {
   "cell_type": "code",
   "execution_count": 22,
   "metadata": {
    "collapsed": true
   },
   "outputs": [
    {
     "name": "stdout",
     "output_type": "stream",
     "text": [
      "numero d vertices:  8\n",
      "numero d arestas:  7\n",
      "\n",
      "lista_adjacencia:\n",
      "\t{'A': {'E'}, 'B': {'C'}, 'C': {'B', 'G', 'D'}, 'D': {'C'}, 'E': {'A', 'H'}, 'F': {'G'}, 'G': {'C', 'F', 'H'}, 'H': {'G', 'E'}}\n",
      "\n",
      "\n"
     ]
    }
   ],
   "source": [
    "g = Grafo()\n",
    "with open('../../insts/grafo2.in') as f:\n",
    "    lines = f.readlines()\n",
    "    n_vertices = int(lines[0])\n",
    "    print('numero d vertices: ', n_vertices)\n",
    "    n_arestas = int(lines[n_vertices+1])\n",
    "    print('numero d arestas: ', n_arestas)\n",
    "    for i in range(1, 1+n_vertices):\n",
    "        g.add_vertice(lines[i].replace('\\n', ''))\n",
    "    for i in range(1+n_vertices+1, 1+n_vertices+1 + n_arestas):\n",
    "        v1, v2 = lines[i].replace('\\n', '').split(' ')\n",
    "        g.add_aresta(v1, v2)\n",
    "    print(g)"
   ]
  },
  {
   "cell_type": "code",
   "execution_count": 23,
   "outputs": [],
   "source": [
    "estado = Estado(g, ['v2'])"
   ],
   "metadata": {
    "collapsed": false,
    "pycharm": {
     "name": "#%%\n"
    }
   }
  },
  {
   "cell_type": "code",
   "execution_count": 23,
   "outputs": [],
   "source": [],
   "metadata": {
    "collapsed": false,
    "pycharm": {
     "name": "#%%\n"
    }
   }
  },
  {
   "cell_type": "code",
   "execution_count": 24,
   "outputs": [
    {
     "ename": "KeyError",
     "evalue": "'v2'",
     "output_type": "error",
     "traceback": [
      "\u001B[0;31m---------------------------------------------------------------------------\u001B[0m",
      "\u001B[0;31mKeyError\u001B[0m                                  Traceback (most recent call last)",
      "Input \u001B[0;32mIn [24]\u001B[0m, in \u001B[0;36m<cell line: 1>\u001B[0;34m()\u001B[0m\n\u001B[0;32m----> 1\u001B[0m \u001B[43mestado\u001B[49m\u001B[38;5;241;43m.\u001B[39;49m\u001B[43mgerar_filhos\u001B[49m\u001B[43m(\u001B[49m\u001B[43m)\u001B[49m\n",
      "File \u001B[0;32m~/aulas/20221/ia/Unip221IA/src/estruturas/espaco_de_estados.py:14\u001B[0m, in \u001B[0;36mEstado.gerar_filhos\u001B[0;34m(self)\u001B[0m\n\u001B[1;32m     12\u001B[0m filhos \u001B[38;5;241m=\u001B[39m []\n\u001B[1;32m     13\u001B[0m u: \u001B[38;5;28mstr\u001B[39m \u001B[38;5;241m=\u001B[39m \u001B[38;5;28mself\u001B[39m\u001B[38;5;241m.\u001B[39mcaminho[\u001B[38;5;241m-\u001B[39m\u001B[38;5;241m1\u001B[39m]\n\u001B[0;32m---> 14\u001B[0m \u001B[38;5;28;01mfor\u001B[39;00m v \u001B[38;5;129;01min\u001B[39;00m \u001B[38;5;28;43mself\u001B[39;49m\u001B[38;5;241;43m.\u001B[39;49m\u001B[43mgrafo\u001B[49m\u001B[38;5;241;43m.\u001B[39;49m\u001B[43mlista_adjacencia\u001B[49m\u001B[43m[\u001B[49m\u001B[43mu\u001B[49m\u001B[43m]\u001B[49m:\n\u001B[1;32m     15\u001B[0m     \u001B[38;5;28;01mif\u001B[39;00m \u001B[38;5;129;01mnot\u001B[39;00m v \u001B[38;5;129;01min\u001B[39;00m \u001B[38;5;28mself\u001B[39m\u001B[38;5;241m.\u001B[39mcaminho:\n\u001B[1;32m     16\u001B[0m         novo_caminho \u001B[38;5;241m=\u001B[39m \u001B[38;5;28mself\u001B[39m\u001B[38;5;241m.\u001B[39mcaminho\u001B[38;5;241m.\u001B[39mcopy()\n",
      "\u001B[0;31mKeyError\u001B[0m: 'v2'"
     ]
    }
   ],
   "source": [
    "estado.gerar_filhos()"
   ],
   "metadata": {
    "collapsed": false,
    "pycharm": {
     "name": "#%%\n"
    }
   }
  },
  {
   "cell_type": "code",
   "execution_count": 25,
   "outputs": [
    {
     "data": {
      "text/plain": "False"
     },
     "execution_count": 25,
     "metadata": {},
     "output_type": "execute_result"
    }
   ],
   "source": [
    "estado.verifica_objetivo()"
   ],
   "metadata": {
    "collapsed": false,
    "pycharm": {
     "name": "#%%\n"
    }
   }
  },
  {
   "cell_type": "code",
   "execution_count": 26,
   "outputs": [
    {
     "data": {
      "text/plain": "False"
     },
     "execution_count": 26,
     "metadata": {},
     "output_type": "execute_result"
    }
   ],
   "source": [
    "Estado(g, ['v1', 'v2', 'v3']).verifica_objetivo()"
   ],
   "metadata": {
    "collapsed": false,
    "pycharm": {
     "name": "#%%\n"
    }
   }
  },
  {
   "cell_type": "code",
   "execution_count": 27,
   "outputs": [],
   "source": [
    "estados_abertos: List[Estado] = []"
   ],
   "metadata": {
    "collapsed": false,
    "pycharm": {
     "name": "#%%\n"
    }
   }
  },
  {
   "cell_type": "code",
   "execution_count": 28,
   "outputs": [],
   "source": [
    "for v in g.lista_adjacencia.keys():\n",
    "    estado = Estado(g, [v])\n",
    "    estados_abertos.append(estado)"
   ],
   "metadata": {
    "collapsed": false,
    "pycharm": {
     "name": "#%%\n"
    }
   }
  },
  {
   "cell_type": "code",
   "execution_count": 29,
   "outputs": [
    {
     "data": {
      "text/plain": "[estado['A'],\n estado['B'],\n estado['C'],\n estado['D'],\n estado['E'],\n estado['F'],\n estado['G'],\n estado['H']]"
     },
     "execution_count": 29,
     "metadata": {},
     "output_type": "execute_result"
    }
   ],
   "source": [
    "estados_abertos"
   ],
   "metadata": {
    "collapsed": false,
    "pycharm": {
     "name": "#%%\n"
    }
   }
  },
  {
   "cell_type": "code",
   "execution_count": 30,
   "outputs": [
    {
     "name": "stdout",
     "output_type": "stream",
     "text": [
      "verificando estado  estado['A']\n",
      "verificando estado  estado['B']\n",
      "verificando estado  estado['C']\n",
      "verificando estado  estado['D']\n",
      "verificando estado  estado['E']\n",
      "verificando estado  estado['F']\n",
      "verificando estado  estado['G']\n",
      "verificando estado  estado['H']\n",
      "verificando estado  estado['A', 'E']\n",
      "verificando estado  estado['B', 'C']\n",
      "verificando estado  estado['C', 'B']\n",
      "verificando estado  estado['C', 'G']\n",
      "verificando estado  estado['C', 'D']\n",
      "verificando estado  estado['D', 'C']\n",
      "verificando estado  estado['E', 'A']\n",
      "verificando estado  estado['E', 'H']\n",
      "verificando estado  estado['F', 'G']\n",
      "verificando estado  estado['G', 'C']\n",
      "verificando estado  estado['G', 'F']\n",
      "verificando estado  estado['G', 'H']\n",
      "verificando estado  estado['H', 'G']\n",
      "verificando estado  estado['H', 'E']\n",
      "verificando estado  estado['A', 'E', 'H']\n",
      "verificando estado  estado['B', 'C', 'G']\n",
      "verificando estado  estado['B', 'C', 'D']\n",
      "verificando estado  estado['C', 'G', 'F']\n",
      "verificando estado  estado['C', 'G', 'H']\n",
      "verificando estado  estado['D', 'C', 'B']\n",
      "verificando estado  estado['D', 'C', 'G']\n",
      "verificando estado  estado['E', 'H', 'G']\n",
      "verificando estado  estado['F', 'G', 'C']\n",
      "verificando estado  estado['F', 'G', 'H']\n",
      "verificando estado  estado['G', 'C', 'B']\n",
      "verificando estado  estado['G', 'C', 'D']\n",
      "verificando estado  estado['G', 'H', 'E']\n",
      "verificando estado  estado['H', 'G', 'C']\n",
      "verificando estado  estado['H', 'G', 'F']\n",
      "verificando estado  estado['H', 'E', 'A']\n",
      "verificando estado  estado['A', 'E', 'H', 'G']\n",
      "verificando estado  estado['B', 'C', 'G', 'F']\n",
      "verificando estado  estado['B', 'C', 'G', 'H']\n",
      "verificando estado  estado['C', 'G', 'H', 'E']\n",
      "verificando estado  estado['D', 'C', 'G', 'F']\n",
      "verificando estado  estado['D', 'C', 'G', 'H']\n",
      "verificando estado  estado['E', 'H', 'G', 'C']\n",
      "verificando estado  estado['E', 'H', 'G', 'F']\n",
      "verificando estado  estado['F', 'G', 'C', 'B']\n",
      "verificando estado  estado['F', 'G', 'C', 'D']\n",
      "verificando estado  estado['F', 'G', 'H', 'E']\n",
      "verificando estado  estado['G', 'H', 'E', 'A']\n",
      "verificando estado  estado['H', 'G', 'C', 'B']\n",
      "verificando estado  estado['H', 'G', 'C', 'D']\n",
      "verificando estado  estado['A', 'E', 'H', 'G', 'C']\n",
      "verificando estado  estado['A', 'E', 'H', 'G', 'F']\n",
      "verificando estado  estado['B', 'C', 'G', 'H', 'E']\n",
      "verificando estado  estado['C', 'G', 'H', 'E', 'A']\n",
      "verificando estado  estado['D', 'C', 'G', 'H', 'E']\n",
      "verificando estado  estado['E', 'H', 'G', 'C', 'B']\n",
      "verificando estado  estado['E', 'H', 'G', 'C', 'D']\n",
      "verificando estado  estado['F', 'G', 'H', 'E', 'A']\n",
      "verificando estado  estado['A', 'E', 'H', 'G', 'C', 'B']\n",
      "verificando estado  estado['A', 'E', 'H', 'G', 'C', 'D']\n",
      "verificando estado  estado['B', 'C', 'G', 'H', 'E', 'A']\n",
      "verificando estado  estado['D', 'C', 'G', 'H', 'E', 'A']\n"
     ]
    }
   ],
   "source": [
    "estado_objetivo = None\n",
    "while estados_abertos:\n",
    "    estado = estados_abertos.pop(0)\n",
    "    print('verificando estado ', estado)\n",
    "    if estado.verifica_objetivo():\n",
    "        print('ESTADO OBJETIVO ENCONTRADO')\n",
    "        estado_objetivo = estado\n",
    "        break\n",
    "    filhos = estado.gerar_filhos()\n",
    "    estados_abertos.extend(filhos)"
   ],
   "metadata": {
    "collapsed": false,
    "pycharm": {
     "name": "#%%\n"
    }
   }
  },
  {
   "cell_type": "code",
   "execution_count": 31,
   "outputs": [],
   "source": [
    "estado_objetivo"
   ],
   "metadata": {
    "collapsed": false,
    "pycharm": {
     "name": "#%%\n"
    }
   }
  },
  {
   "cell_type": "code",
   "execution_count": null,
   "outputs": [],
   "source": [],
   "metadata": {
    "collapsed": false,
    "pycharm": {
     "name": "#%%\n"
    }
   }
  }
 ],
 "metadata": {
  "kernelspec": {
   "display_name": "Python 3",
   "language": "python",
   "name": "python3"
  },
  "language_info": {
   "codemirror_mode": {
    "name": "ipython",
    "version": 2
   },
   "file_extension": ".py",
   "mimetype": "text/x-python",
   "name": "python",
   "nbconvert_exporter": "python",
   "pygments_lexer": "ipython2",
   "version": "2.7.6"
  }
 },
 "nbformat": 4,
 "nbformat_minor": 0
}