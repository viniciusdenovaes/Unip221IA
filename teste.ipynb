{
 "cells": [
  {
   "cell_type": "code",
   "execution_count": 1,
   "metadata": {
    "pycharm": {
     "name": "#%%\n"
    }
   },
   "outputs": [],
   "source": [
    "from src.estruturas.grafo import Grafo\n",
    "from src.dao.read_grafo import read_grafo\n",
    "from pathlib import Path\n"
   ]
  },
  {
   "cell_type": "code",
   "execution_count": 2,
   "metadata": {
    "pycharm": {
     "name": "#%%\n"
    }
   },
   "outputs": [],
   "source": [
    "g = Grafo()"
   ]
  },
  {
   "cell_type": "code",
   "execution_count": 6,
   "metadata": {},
   "outputs": [
    {
     "data": {
      "text/plain": "\nlista_adjacencia:\n\t{}\n"
     },
     "execution_count": 6,
     "metadata": {},
     "output_type": "execute_result"
    }
   ],
   "source": [
    "g"
   ]
  },
  {
   "cell_type": "code",
   "execution_count": 7,
   "metadata": {
    "pycharm": {
     "name": "#%%\n"
    }
   },
   "outputs": [],
   "source": [
    "g.add_vertice('v1')\n",
    "g.add_vertice('v2')\n",
    "g.add_vertice('v3')"
   ]
  },
  {
   "cell_type": "code",
   "execution_count": 8,
   "outputs": [
    {
     "data": {
      "text/plain": "\nlista_adjacencia:\n\t{'v1': set(), 'v2': set(), 'v3': set()}\n"
     },
     "execution_count": 8,
     "metadata": {},
     "output_type": "execute_result"
    }
   ],
   "source": [
    "g"
   ],
   "metadata": {
    "collapsed": false,
    "pycharm": {
     "name": "#%%\n"
    }
   }
  },
  {
   "cell_type": "code",
   "execution_count": 9,
   "outputs": [],
   "source": [
    "g.add_aresta('v1', 'v2')\n",
    "g.add_aresta('v2', 'v3')"
   ],
   "metadata": {
    "collapsed": false,
    "pycharm": {
     "name": "#%%\n"
    }
   }
  },
  {
   "cell_type": "code",
   "execution_count": 10,
   "outputs": [
    {
     "data": {
      "text/plain": "\nlista_adjacencia:\n\t{'v1': {'v2'}, 'v2': {'v1', 'v3'}, 'v3': {'v2'}}\n"
     },
     "execution_count": 10,
     "metadata": {},
     "output_type": "execute_result"
    }
   ],
   "source": [
    "g"
   ],
   "metadata": {
    "collapsed": false,
    "pycharm": {
     "name": "#%%\n"
    }
   }
  },
  {
   "cell_type": "code",
   "execution_count": 33,
   "outputs": [
    {
     "name": "stdout",
     "output_type": "stream",
     "text": [
      "numero d vertices:  3\n",
      "numero d arestas:  2\n",
      "\n",
      "lista_adjacencia:\n",
      "\t{'v1': {'v2'}, 'v2': {'v1', 'v3'}, 'v3': {'v2'}}\n",
      "\n",
      "\n"
     ]
    }
   ],
   "source": [
    "g = Grafo()\n",
    "with open('insts/grafo1.in') as f:\n",
    "    lines = f.readlines()\n",
    "    n_vertices = int(lines[0])\n",
    "    print('numero d vertices: ', n_vertices)\n",
    "    n_arestas = int(lines[n_vertices+1])\n",
    "    print('numero d arestas: ', n_arestas)\n",
    "    for i in range(1, 1+n_vertices):\n",
    "        g.add_vertice(lines[i].replace('\\n', ''))\n",
    "    for i in range(1+n_vertices+1, 1+n_vertices+1 + n_arestas):\n",
    "        v1, v2 = lines[i].replace('\\n', '').split(' ')\n",
    "        g.add_aresta(v1, v2)\n",
    "    print(g)"
   ],
   "metadata": {
    "collapsed": false,
    "pycharm": {
     "name": "#%%\n"
    }
   }
  },
  {
   "cell_type": "code",
   "execution_count": 31,
   "outputs": [
    {
     "data": {
      "text/plain": "[1, 2, 3, 4, 5]"
     },
     "execution_count": 31,
     "metadata": {},
     "output_type": "execute_result"
    }
   ],
   "source": [
    "list(range(1,6))"
   ],
   "metadata": {
    "collapsed": false,
    "pycharm": {
     "name": "#%%\n"
    }
   }
  },
  {
   "cell_type": "code",
   "execution_count": 3,
   "outputs": [
    {
     "name": "stdout",
     "output_type": "stream",
     "text": [
      "numero d vertices:  8\n",
      "numero d arestas:  7\n"
     ]
    },
    {
     "data": {
      "text/plain": "\nlista_adjacencia:\n\t{'A': {'E'}, 'B': {'C'}, 'C': {'G', 'B', 'D'}, 'D': {'C'}, 'E': {'A', 'H'}, 'F': {'G'}, 'G': {'C', 'F', 'H'}, 'H': {'E', 'G'}}\n"
     },
     "execution_count": 3,
     "metadata": {},
     "output_type": "execute_result"
    }
   ],
   "source": [
    "read_grafo(Path('insts/grafo2.in'))"
   ],
   "metadata": {
    "collapsed": false,
    "pycharm": {
     "name": "#%%\n"
    }
   }
  },
  {
   "cell_type": "code",
   "execution_count": null,
   "outputs": [],
   "source": [],
   "metadata": {
    "collapsed": false,
    "pycharm": {
     "name": "#%%\n"
    }
   }
  }
 ],
 "metadata": {
  "kernelspec": {
   "display_name": "Python 3 (ipykernel)",
   "language": "python",
   "name": "python3"
  },
  "language_info": {
   "codemirror_mode": {
    "name": "ipython",
    "version": 3
   },
   "file_extension": ".py",
   "mimetype": "text/x-python",
   "name": "python",
   "nbconvert_exporter": "python",
   "pygments_lexer": "ipython3",
   "version": "3.8.10"
  }
 },
 "nbformat": 4,
 "nbformat_minor": 1
}